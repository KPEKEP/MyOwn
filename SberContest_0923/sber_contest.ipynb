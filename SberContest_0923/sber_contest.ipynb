{
 "cells": [
  {
   "cell_type": "markdown",
   "id": "3ec8c616-2250-44cc-98ac-80478c48579f",
   "metadata": {},
   "source": [
    "### Copyright Pavel Nakaznenko, 2023\n",
    "### For Sber beautiful code contest\n",
    "### pavel@nakaznenko.com"
   ]
  },
  {
   "cell_type": "markdown",
   "id": "cfe22472-fe5c-42bc-9c2d-277cc38ab6de",
   "metadata": {},
   "source": [
    "# Setup"
   ]
  },
  {
   "cell_type": "code",
   "execution_count": null,
   "id": "599b264d-f2e7-40c7-a2b2-6c6851be8cd9",
   "metadata": {},
   "outputs": [],
   "source": [
    "!pip install pandas==2.0.3 numpy seaborn matplotlib scikit-learn xgboost"
   ]
  },
  {
   "cell_type": "markdown",
   "id": "232adbf2-4205-45a0-a8d5-d2f2eb422834",
   "metadata": {},
   "source": [
    "# Описание"
   ]
  },
  {
   "cell_type": "markdown",
   "id": "5769a202-c2df-4323-96a4-a6d00c2f3160",
   "metadata": {},
   "source": [
    "**Алгоритм классификации:**\n",
    "\n",
    "Я честно погуглил prior art на тему и самые многообещающие результаты показал градиентный бустинг.\n",
    "Поэтому я решил следовать этому направлению, опираясь на успехи и опыт сообщества.\n",
    "Мои мысли на тему преимуществ этого метода:\n",
    "\n",
    "-Эффективность в борьбе с переобучением\n",
    "\n",
    "-Способность обрабатывать большое количество признаков\n",
    "\n",
    "-Нет необходимости в масштабировании признаков (в отличие от логистической регрессии)\n",
    "\n",
    "-Высокая устойчивость к выбросам\n",
    "\n",
    "Более того, градиентный бустинг дает четкое понимание важности признаков.\n",
    "\n",
    "**Преобразование данных:**\n",
    "\n",
    "\n",
    "TF-IDF векторизация. Этот метод преобразует текстовые данные в числовой формат, учитывая значимость каждого символа или слова для всего датасета. На мой взгляд, он эффективнее One-Hot-Encoding, особенно в сочетании с градиентным бустингом, так как учитывает специфические особенности текста, такие как регистр символов или длина пароля.\n",
    "\n",
    "**Метрика качества:**\n",
    "\n",
    "\n",
    "В нашем контексте больше ценится точность (precision) нежели accuracy, чтобы не угрожать безопасности. Кроме того, для попытки более глубокого анализа будем использовать оценку важности признаков. Для оптимизации выбора гиперпараметров применим RandomizedSearch"
   ]
  },
  {
   "cell_type": "markdown",
   "id": "14584e5a-6762-42f6-ad41-f36a38732cbe",
   "metadata": {},
   "source": [
    "# Загрузка и обработка данных"
   ]
  },
  {
   "cell_type": "code",
   "execution_count": 1,
   "id": "097ba595-f2a8-44db-b18a-556dbdb8fca4",
   "metadata": {},
   "outputs": [],
   "source": [
    "import pandas as pd\n",
    "import numpy as np\n",
    "import seaborn as sns\n",
    "import matplotlib.pyplot as plt\n",
    "import xgboost as xgb\n",
    "from xgboost import XGBClassifier\n",
    "\n",
    "\n",
    "from sklearn.model_selection import train_test_split, RandomizedSearchCV\n",
    "from sklearn.feature_extraction.text import TfidfVectorizer\n",
    "from sklearn.metrics import (\n",
    "    precision_score, \n",
    "    classification_report, \n",
    "    confusion_matrix\n",
    ")"
   ]
  },
  {
   "cell_type": "code",
   "execution_count": 2,
   "id": "3aa2af03-4532-4e80-b7d9-a9674e3b8287",
   "metadata": {},
   "outputs": [],
   "source": [
    "data = pd.read_csv('passwords.csv')\n",
    "\n",
    "# Предварительная обработка\n",
    "# Удаление строк с пропущенными значениями\n",
    "data.dropna(subset=['password', 'strength'], inplace=True)"
   ]
  },
  {
   "cell_type": "code",
   "execution_count": 3,
   "id": "1087cd3d-3127-4a4c-9bce-f919c216bf7f",
   "metadata": {},
   "outputs": [
    {
     "name": "stdout",
     "output_type": "stream",
     "text": [
      "Class distribution:\n",
      " strength\n",
      "1    74278\n",
      "0    13428\n",
      "2    12294\n",
      "Name: count, dtype: int64\n"
     ]
    }
   ],
   "source": [
    "# Проверка сбалансированности датасета\n",
    "class_counts = data['strength'].value_counts()\n",
    "print(\"Class distribution:\\n\", class_counts)"
   ]
  },
  {
   "cell_type": "markdown",
   "id": "e7e48027-1102-4169-a0fb-b1cb4b844fe6",
   "metadata": {},
   "source": [
    "У нас тут явный дисбаланс. Давайте сделаем downsample."
   ]
  },
  {
   "cell_type": "code",
   "execution_count": 4,
   "id": "0fd9eb00-95fd-4796-8466-5f037b2522d2",
   "metadata": {},
   "outputs": [
    {
     "name": "stdout",
     "output_type": "stream",
     "text": [
      "Class distribution after downsampling:\n",
      " strength\n",
      "1    12294\n",
      "0    12294\n",
      "2    12294\n",
      "Name: count, dtype: int64\n"
     ]
    }
   ],
   "source": [
    "# даунсэмплинг для устранения дисбаланса классов\n",
    "min_class_samples = class_counts.min()\n",
    "\n",
    "# Функция для даунсэмплинга\n",
    "def downsample_class(data, strength, n_samples):\n",
    "    class_samples = data[data['strength'] == strength]\n",
    "    downsampled_class = class_samples.sample(n_samples, random_state=42)\n",
    "    return downsampled_class\n",
    "\n",
    "# Применение функции даунсэмплинга для каждого класса\n",
    "data = pd.concat([\n",
    "    downsample_class(data, label, min_class_samples) for label in class_counts.index\n",
    "])\n",
    "\n",
    "# Проверка сбалансированности после даунсэмплинга\n",
    "print(\"Class distribution after downsampling:\\n\", data['strength'].value_counts())"
   ]
  },
  {
   "cell_type": "code",
   "execution_count": 5,
   "id": "a101275b-5539-47ab-beb4-9cf60595edd9",
   "metadata": {},
   "outputs": [],
   "source": [
    "# Разделение данных на обучающую и тестовую выборки\n",
    "X_train, X_test, y_train, y_test = train_test_split(\n",
    "    data['password'], data['strength'], test_size=0.2, random_state=42\n",
    ")\n",
    "\n",
    "# TF-IDF векторизация\n",
    "vectorizer = TfidfVectorizer(analyzer='char')\n",
    "X_train_vec = vectorizer.fit_transform(X_train)\n",
    "X_test_vec = vectorizer.transform(X_test)"
   ]
  },
  {
   "cell_type": "markdown",
   "id": "aedafa1e-834e-48f2-9d6d-b7ec261400b7",
   "metadata": {},
   "source": [
    "# Учим"
   ]
  },
  {
   "cell_type": "code",
   "execution_count": 6,
   "id": "5a94cc27-e836-457d-905f-c5573c3ff4b1",
   "metadata": {},
   "outputs": [
    {
     "name": "stdout",
     "output_type": "stream",
     "text": [
      "Fitting 3 folds for each of 10 candidates, totalling 30 fits\n"
     ]
    }
   ],
   "source": [
    "# Настройка гиперпараметров с помощью RandomizedSearchCV\n",
    "param_dist = {\n",
    "    'n_estimators': np.arange(50, 201, 50), # количество деревьев\n",
    "    'max_depth': np.arange(3, 10), # глубина деревьев\n",
    "    'learning_rate': [0.01, 0.05, 0.1, 0.2, 0.3], # коэфициент обучения\n",
    "    'subsample': np.arange(0.5, 1.0, 0.1), # доля выборки для каждого дерева\n",
    "    'colsample_bytree': np.arange(0.5, 1.0, 0.1), # доля признаков для каждого дерева\n",
    "    'gamma': [0, 0.1, 0.2, 0.3, 0.4, 0.5], # регуляризация\n",
    "    'num_class': [len(data['strength'].unique())] # кол-во классов\n",
    "}\n",
    "\n",
    "# испольтзуем гистограмный метод для градиентного бустинга\n",
    "xgb_c = XGBClassifier(tree_method='hist', objective=['multi:softmax'])\n",
    "\n",
    "random_search = RandomizedSearchCV(\n",
    "    xgb_c, param_distributions=param_dist, n_iter=10, cv=3, verbose=1\n",
    ")\n",
    "random_search.fit(X_train_vec, y_train)\n",
    "\n",
    "best_xgb_c = random_search.best_estimator_"
   ]
  },
  {
   "cell_type": "markdown",
   "id": "02fd263e-1066-4556-9631-161848a555d6",
   "metadata": {},
   "source": [
    "# Предсказываем"
   ]
  },
  {
   "cell_type": "code",
   "execution_count": 7,
   "id": "24dc5adf-e038-43bd-a84c-53b6d65095cf",
   "metadata": {},
   "outputs": [],
   "source": [
    "y_pred = best_xgb_c.predict(X_test_vec)"
   ]
  },
  {
   "cell_type": "code",
   "execution_count": 8,
   "id": "37a72b84-a908-4b89-9ace-6ebdd9f55d8b",
   "metadata": {},
   "outputs": [
    {
     "name": "stdout",
     "output_type": "stream",
     "text": [
      "Precision: 0.9740854360107254\n",
      "              precision    recall  f1-score   support\n",
      "\n",
      "           0       0.98      0.98      0.98      2442\n",
      "           1       0.97      0.95      0.96      2471\n",
      "           2       0.97      0.99      0.98      2464\n",
      "\n",
      "    accuracy                           0.97      7377\n",
      "   macro avg       0.97      0.97      0.97      7377\n",
      "weighted avg       0.97      0.97      0.97      7377\n",
      "\n"
     ]
    }
   ],
   "source": [
    "# Оценка модели\n",
    "print(\"Precision:\", precision_score(y_test, y_pred, average='weighted'))  # используем 'weighted', чтобы учесть дисбаланс классов\n",
    "print(classification_report(y_test, y_pred))"
   ]
  },
  {
   "cell_type": "code",
   "execution_count": 9,
   "id": "b996ca31-9b82-4b6d-892b-0f1a0a128385",
   "metadata": {},
   "outputs": [],
   "source": [
    "# Важность признаков\n",
    "importances = best_xgb_c.feature_importances_\n",
    "indices = np.argsort(importances)[::-1]"
   ]
  },
  {
   "cell_type": "code",
   "execution_count": 10,
   "id": "c18e34f6-481c-4061-848b-5b950365b338",
   "metadata": {},
   "outputs": [
    {
     "data": {
      "image/png": "[encoded data removed]",
      "text/plain": [
       "<Figure size 1500x500 with 1 Axes>"
      ]
     },
     "metadata": {},
     "output_type": "display_data"
    }
   ],
   "source": [
    "# Вывод топ-20 наиболее важных признаков\n",
    "plt.figure(figsize=(15, 5))\n",
    "sns.barplot(\n",
    "    x=np.array(vectorizer.get_feature_names_out())[indices[:20]],\n",
    "    y=importances[indices[:20]]\n",
    ")\n",
    "plt.title(\"Top 20 feature importances\")\n",
    "plt.show()"
   ]
  },
  {
   "cell_type": "code",
   "execution_count": 11,
   "id": "387265cd-fd63-4a0a-a0e9-ab171163edcb",
   "metadata": {},
   "outputs": [],
   "source": [
    "# Функция проверки нового пароля\n",
    "def check_password_strength(password):\n",
    "    password_vec = vectorizer.transform([password])\n",
    "    return best_xgb_c.predict(password_vec)[0]"
   ]
  },
  {
   "cell_type": "code",
   "execution_count": 12,
   "id": "742bc5e1-06f4-4d43-9263-25f9d1addd58",
   "metadata": {},
   "outputs": [
    {
     "name": "stdout",
     "output_type": "stream",
     "text": [
      "2\n"
     ]
    }
   ],
   "source": [
    "# Проверяем пароль\n",
    "new_password = \"examplePassword123\"\n",
    "print(check_password_strength(new_password))"
   ]
  },
  {
   "cell_type": "code",
   "execution_count": null,
   "id": "5415184a-ceb7-4015-9267-f570995ec2b3",
   "metadata": {},
   "outputs": [],
   "source": []
  }
 ],
 "metadata": {
  "kernelspec": {
   "display_name": "Python 3 (ipykernel)",
   "language": "python",
   "name": "python3"
  },
  "language_info": {
   "codemirror_mode": {
    "name": "ipython",
    "version": 3
   },
   "file_extension": ".py",
   "mimetype": "text/x-python",
   "name": "python",
   "nbconvert_exporter": "python",
   "pygments_lexer": "ipython3",
   "version": "3.10.11"
  }
 },
 "nbformat": 4,
 "nbformat_minor": 5
}
