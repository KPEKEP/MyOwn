{
 "cells": [
  {
   "cell_type": "code",
   "execution_count": 1,
   "id": "d5c9fa9e-e109-4f73-b086-50a17c2f819d",
   "metadata": {},
   "outputs": [
    {
     "name": "stderr",
     "output_type": "stream",
     "text": [
      "C:\\Users\\pnaka\\.conda\\envs\\pytorch\\Lib\\site-packages\\torchaudio\\backend\\utils.py:74: UserWarning: No audio backend is available.\n",
      "  warnings.warn(\"No audio backend is available.\")\n"
     ]
    }
   ],
   "source": [
    "from captchanet import CaptchaNet"
   ]
  },
  {
   "cell_type": "code",
   "execution_count": 2,
   "id": "dfa394bf-1ff0-41f3-8994-15fd7013da66",
   "metadata": {},
   "outputs": [],
   "source": [
    "TARGET_WIDTH, TARGET_HEIGHT = 140, 35\n",
    "CHAR_NUM=6\n",
    "ALPHABET=\"0123456789\"\n",
    "VARIATIONS=len(ALPHABET)"
   ]
  },
  {
   "cell_type": "code",
   "execution_count": 3,
   "id": "32d4c08b-52ee-4d39-b6ab-6956c03994ad",
   "metadata": {},
   "outputs": [
    {
     "data": {
      "text/plain": [
       "CaptchaNet(\n",
       "  (conv1): Conv2d(1, 32, kernel_size=(5, 5), stride=(1, 1), padding=(2, 2))\n",
       "  (bn1): BatchNorm2d(32, eps=1e-05, momentum=0.1, affine=True, track_running_stats=True)\n",
       "  (pool1): MaxPool2d(kernel_size=(2, 2), stride=(2, 2), padding=0, dilation=1, ceil_mode=False)\n",
       "  (conv2): Conv2d(32, 48, kernel_size=(5, 5), stride=(1, 1), padding=(2, 2))\n",
       "  (bn2): BatchNorm2d(48, eps=1e-05, momentum=0.1, affine=True, track_running_stats=True)\n",
       "  (pool2): MaxPool2d(kernel_size=(2, 2), stride=(2, 2), padding=0, dilation=1, ceil_mode=False)\n",
       "  (conv3): Conv2d(48, 64, kernel_size=(5, 5), stride=(1, 1), padding=(2, 2))\n",
       "  (bn3): BatchNorm2d(64, eps=1e-05, momentum=0.1, affine=True, track_running_stats=True)\n",
       "  (pool3): MaxPool2d(kernel_size=(2, 2), stride=(2, 2), padding=0, dilation=1, ceil_mode=False)\n",
       "  (dropout1): Dropout(p=0.1, inplace=False)\n",
       "  (fc1): Linear(in_features=4352, out_features=512, bias=True)\n",
       "  (dropout2): Dropout(p=0.1, inplace=False)\n",
       "  (character_layers): ModuleList(\n",
       "    (0-5): 6 x Linear(in_features=512, out_features=10, bias=True)\n",
       "  )\n",
       ")"
      ]
     },
     "execution_count": 3,
     "metadata": {},
     "output_type": "execute_result"
    }
   ],
   "source": [
    "import torch\n",
    "import os\n",
    "torch.set_float32_matmul_precision('highest')\n",
    "loaded_model = CaptchaNet.load_from_checkpoint(os.getcwd() +\"/model_final.ckpt\", \n",
    "                                               img_height=TARGET_HEIGHT, img_width=TARGET_WIDTH, \n",
    "                                               num_of_letters=CHAR_NUM, num_of_variations=VARIATIONS)\n",
    "\n",
    "loaded_model.to('cuda')\n",
    "loaded_model.eval()"
   ]
  },
  {
   "cell_type": "code",
   "execution_count": 5,
   "id": "bc0de30d-3c3e-4b37-9b5d-e60fc56db97f",
   "metadata": {
    "scrolled": true
   },
   "outputs": [
    {
     "name": "stdout",
     "output_type": "stream",
     "text": [
      "258986\n"
     ]
    }
   ],
   "source": [
    "#recognize_captcha('recognition/images_0123456789_10_6_(18, 24, 30)_jpg_140_35/118077.jpg')\n",
    "print(loaded_model.recognize_captcha('test.png', '0123456789'))"
   ]
  },
  {
   "cell_type": "code",
   "execution_count": null,
   "id": "e56a2061-dd6a-4271-9ff7-3e889a16db7e",
   "metadata": {},
   "outputs": [],
   "source": []
  },
  {
   "cell_type": "code",
   "execution_count": null,
   "id": "42ad8d9b-84b5-4fc9-840e-97180d4a6901",
   "metadata": {},
   "outputs": [],
   "source": []
  }
 ],
 "metadata": {
  "kernelspec": {
   "display_name": "Python 3 (ipykernel)",
   "language": "python",
   "name": "python3"
  },
  "language_info": {
   "codemirror_mode": {
    "name": "ipython",
    "version": 3
   },
   "file_extension": ".py",
   "mimetype": "text/x-python",
   "name": "python",
   "nbconvert_exporter": "python",
   "pygments_lexer": "ipython3",
   "version": "3.11.5"
  }
 },
 "nbformat": 4,
 "nbformat_minor": 5
}
